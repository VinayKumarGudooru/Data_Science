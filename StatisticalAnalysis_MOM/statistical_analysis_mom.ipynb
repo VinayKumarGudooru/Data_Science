{
 "cells": [
  {
   "cell_type": "code",
   "execution_count": 225,
   "id": "b8f9a65f",
   "metadata": {},
   "outputs": [
    {
     "name": "stdout",
     "output_type": "stream",
     "text": [
      "/c/Users/moins/Downloads/Assignment8_Group5 (1)/Assignment8_Group5\n"
     ]
    }
   ],
   "source": [
    "import pandas as pd\n",
    "import matplotlib.pyplot as plt\n",
    "import numpy as np\n",
    "!pwd\n"
   ]
  },
  {
   "cell_type": "markdown",
   "id": "3f7baf2f",
   "metadata": {},
   "source": [
    "### We have dataset of Yellow taxis data of New york for 2016."
   ]
  },
  {
   "cell_type": "code",
   "execution_count": 183,
   "id": "ea99e708",
   "metadata": {},
   "outputs": [
    {
     "data": {
      "text/html": [
       "<div>\n",
       "<style scoped>\n",
       "    .dataframe tbody tr th:only-of-type {\n",
       "        vertical-align: middle;\n",
       "    }\n",
       "\n",
       "    .dataframe tbody tr th {\n",
       "        vertical-align: top;\n",
       "    }\n",
       "\n",
       "    .dataframe thead th {\n",
       "        text-align: right;\n",
       "    }\n",
       "</style>\n",
       "<table border=\"1\" class=\"dataframe\">\n",
       "  <thead>\n",
       "    <tr style=\"text-align: right;\">\n",
       "      <th></th>\n",
       "      <th>tpep_dropoff_datetime</th>\n",
       "      <th>passenger_count</th>\n",
       "      <th>trip_distance</th>\n",
       "      <th>fare_amount</th>\n",
       "      <th>extra</th>\n",
       "      <th>mta_tax</th>\n",
       "      <th>tip_amount</th>\n",
       "      <th>tolls_amount</th>\n",
       "      <th>improvement_surcharge</th>\n",
       "      <th>total_amount</th>\n",
       "    </tr>\n",
       "  </thead>\n",
       "  <tbody>\n",
       "    <tr>\n",
       "      <th>0</th>\n",
       "      <td>3/10/2016 7:50</td>\n",
       "      <td>1</td>\n",
       "      <td>0.00</td>\n",
       "      <td>1.0</td>\n",
       "      <td>0.0</td>\n",
       "      <td>0.5</td>\n",
       "      <td>0.00</td>\n",
       "      <td>0.00</td>\n",
       "      <td>0.3</td>\n",
       "      <td>1.80</td>\n",
       "    </tr>\n",
       "    <tr>\n",
       "      <th>1</th>\n",
       "      <td>3/10/2016 10:35</td>\n",
       "      <td>1</td>\n",
       "      <td>0.00</td>\n",
       "      <td>1.1</td>\n",
       "      <td>0.0</td>\n",
       "      <td>0.5</td>\n",
       "      <td>0.00</td>\n",
       "      <td>0.00</td>\n",
       "      <td>0.3</td>\n",
       "      <td>1.90</td>\n",
       "    </tr>\n",
       "    <tr>\n",
       "      <th>2</th>\n",
       "      <td>3/10/2016 9:59</td>\n",
       "      <td>2</td>\n",
       "      <td>0.00</td>\n",
       "      <td>1.5</td>\n",
       "      <td>0.0</td>\n",
       "      <td>0.5</td>\n",
       "      <td>0.00</td>\n",
       "      <td>0.00</td>\n",
       "      <td>0.3</td>\n",
       "      <td>2.30</td>\n",
       "    </tr>\n",
       "    <tr>\n",
       "      <th>3</th>\n",
       "      <td>3/10/2016 10:06</td>\n",
       "      <td>2</td>\n",
       "      <td>0.00</td>\n",
       "      <td>1.5</td>\n",
       "      <td>0.0</td>\n",
       "      <td>0.5</td>\n",
       "      <td>0.00</td>\n",
       "      <td>0.00</td>\n",
       "      <td>0.3</td>\n",
       "      <td>2.30</td>\n",
       "    </tr>\n",
       "    <tr>\n",
       "      <th>4</th>\n",
       "      <td>3/10/2016 10:29</td>\n",
       "      <td>2</td>\n",
       "      <td>0.00</td>\n",
       "      <td>1.5</td>\n",
       "      <td>0.0</td>\n",
       "      <td>0.5</td>\n",
       "      <td>0.00</td>\n",
       "      <td>0.00</td>\n",
       "      <td>0.3</td>\n",
       "      <td>2.30</td>\n",
       "    </tr>\n",
       "    <tr>\n",
       "      <th>...</th>\n",
       "      <td>...</td>\n",
       "      <td>...</td>\n",
       "      <td>...</td>\n",
       "      <td>...</td>\n",
       "      <td>...</td>\n",
       "      <td>...</td>\n",
       "      <td>...</td>\n",
       "      <td>...</td>\n",
       "      <td>...</td>\n",
       "      <td>...</td>\n",
       "    </tr>\n",
       "    <tr>\n",
       "      <th>99874</th>\n",
       "      <td>3/10/2016 9:05</td>\n",
       "      <td>1</td>\n",
       "      <td>40.27</td>\n",
       "      <td>171.0</td>\n",
       "      <td>0.0</td>\n",
       "      <td>0.5</td>\n",
       "      <td>20.00</td>\n",
       "      <td>17.00</td>\n",
       "      <td>0.3</td>\n",
       "      <td>208.80</td>\n",
       "    </tr>\n",
       "    <tr>\n",
       "      <th>99875</th>\n",
       "      <td>3/10/2016 9:04</td>\n",
       "      <td>1</td>\n",
       "      <td>35.94</td>\n",
       "      <td>175.0</td>\n",
       "      <td>0.0</td>\n",
       "      <td>0.0</td>\n",
       "      <td>39.96</td>\n",
       "      <td>24.50</td>\n",
       "      <td>0.3</td>\n",
       "      <td>239.76</td>\n",
       "    </tr>\n",
       "    <tr>\n",
       "      <th>99876</th>\n",
       "      <td>3/10/2016 8:57</td>\n",
       "      <td>2</td>\n",
       "      <td>0.00</td>\n",
       "      <td>180.0</td>\n",
       "      <td>0.0</td>\n",
       "      <td>0.0</td>\n",
       "      <td>45.08</td>\n",
       "      <td>0.00</td>\n",
       "      <td>0.3</td>\n",
       "      <td>225.38</td>\n",
       "    </tr>\n",
       "    <tr>\n",
       "      <th>99877</th>\n",
       "      <td>3/10/2016 12:48</td>\n",
       "      <td>2</td>\n",
       "      <td>31.68</td>\n",
       "      <td>195.0</td>\n",
       "      <td>0.0</td>\n",
       "      <td>0.5</td>\n",
       "      <td>41.02</td>\n",
       "      <td>9.29</td>\n",
       "      <td>0.3</td>\n",
       "      <td>246.11</td>\n",
       "    </tr>\n",
       "    <tr>\n",
       "      <th>99878</th>\n",
       "      <td>3/1/2016 1:38</td>\n",
       "      <td>1</td>\n",
       "      <td>45.10</td>\n",
       "      <td>195.5</td>\n",
       "      <td>0.5</td>\n",
       "      <td>0.5</td>\n",
       "      <td>20.00</td>\n",
       "      <td>0.00</td>\n",
       "      <td>0.3</td>\n",
       "      <td>216.80</td>\n",
       "    </tr>\n",
       "  </tbody>\n",
       "</table>\n",
       "<p>99879 rows × 10 columns</p>\n",
       "</div>"
      ],
      "text/plain": [
       "      tpep_dropoff_datetime  passenger_count  trip_distance  fare_amount  \\\n",
       "0            3/10/2016 7:50                1           0.00          1.0   \n",
       "1           3/10/2016 10:35                1           0.00          1.1   \n",
       "2            3/10/2016 9:59                2           0.00          1.5   \n",
       "3           3/10/2016 10:06                2           0.00          1.5   \n",
       "4           3/10/2016 10:29                2           0.00          1.5   \n",
       "...                     ...              ...            ...          ...   \n",
       "99874        3/10/2016 9:05                1          40.27        171.0   \n",
       "99875        3/10/2016 9:04                1          35.94        175.0   \n",
       "99876        3/10/2016 8:57                2           0.00        180.0   \n",
       "99877       3/10/2016 12:48                2          31.68        195.0   \n",
       "99878         3/1/2016 1:38                1          45.10        195.5   \n",
       "\n",
       "       extra  mta_tax  tip_amount  tolls_amount  improvement_surcharge  \\\n",
       "0        0.0      0.5        0.00          0.00                    0.3   \n",
       "1        0.0      0.5        0.00          0.00                    0.3   \n",
       "2        0.0      0.5        0.00          0.00                    0.3   \n",
       "3        0.0      0.5        0.00          0.00                    0.3   \n",
       "4        0.0      0.5        0.00          0.00                    0.3   \n",
       "...      ...      ...         ...           ...                    ...   \n",
       "99874    0.0      0.5       20.00         17.00                    0.3   \n",
       "99875    0.0      0.0       39.96         24.50                    0.3   \n",
       "99876    0.0      0.0       45.08          0.00                    0.3   \n",
       "99877    0.0      0.5       41.02          9.29                    0.3   \n",
       "99878    0.5      0.5       20.00          0.00                    0.3   \n",
       "\n",
       "       total_amount  \n",
       "0              1.80  \n",
       "1              1.90  \n",
       "2              2.30  \n",
       "3              2.30  \n",
       "4              2.30  \n",
       "...             ...  \n",
       "99874        208.80  \n",
       "99875        239.76  \n",
       "99876        225.38  \n",
       "99877        246.11  \n",
       "99878        216.80  \n",
       "\n",
       "[99879 rows x 10 columns]"
      ]
     },
     "execution_count": 183,
     "metadata": {},
     "output_type": "execute_result"
    }
   ],
   "source": [
    "Uber_data_precip = pd.read_csv(\"uber_data.csv\")\n",
    "Uber_data_precip = Uber_data_precip.drop(['VendorID','tpep_pickup_datetime','pickup_longitude','pickup_latitude','RatecodeID','store_and_fwd_flag','dropoff_longitude','dropoff_latitude','payment_type'],axis=1)\n",
    "Uber_data_precip"
   ]
  },
  {
   "cell_type": "markdown",
   "id": "03b4bc9e",
   "metadata": {},
   "source": [
    "### We have removed columns that we don't need."
   ]
  },
  {
   "cell_type": "markdown",
   "id": "1a581e02",
   "metadata": {},
   "source": [
    "### First 5 rows of the dataset."
   ]
  },
  {
   "cell_type": "code",
   "execution_count": 184,
   "id": "42558194",
   "metadata": {},
   "outputs": [
    {
     "data": {
      "text/html": [
       "<div>\n",
       "<style scoped>\n",
       "    .dataframe tbody tr th:only-of-type {\n",
       "        vertical-align: middle;\n",
       "    }\n",
       "\n",
       "    .dataframe tbody tr th {\n",
       "        vertical-align: top;\n",
       "    }\n",
       "\n",
       "    .dataframe thead th {\n",
       "        text-align: right;\n",
       "    }\n",
       "</style>\n",
       "<table border=\"1\" class=\"dataframe\">\n",
       "  <thead>\n",
       "    <tr style=\"text-align: right;\">\n",
       "      <th></th>\n",
       "      <th>tpep_dropoff_datetime</th>\n",
       "      <th>passenger_count</th>\n",
       "      <th>trip_distance</th>\n",
       "      <th>fare_amount</th>\n",
       "      <th>extra</th>\n",
       "      <th>mta_tax</th>\n",
       "      <th>tip_amount</th>\n",
       "      <th>tolls_amount</th>\n",
       "      <th>improvement_surcharge</th>\n",
       "      <th>total_amount</th>\n",
       "    </tr>\n",
       "  </thead>\n",
       "  <tbody>\n",
       "    <tr>\n",
       "      <th>0</th>\n",
       "      <td>3/10/2016 7:50</td>\n",
       "      <td>1</td>\n",
       "      <td>0.0</td>\n",
       "      <td>1.0</td>\n",
       "      <td>0.0</td>\n",
       "      <td>0.5</td>\n",
       "      <td>0.0</td>\n",
       "      <td>0.0</td>\n",
       "      <td>0.3</td>\n",
       "      <td>1.8</td>\n",
       "    </tr>\n",
       "    <tr>\n",
       "      <th>1</th>\n",
       "      <td>3/10/2016 10:35</td>\n",
       "      <td>1</td>\n",
       "      <td>0.0</td>\n",
       "      <td>1.1</td>\n",
       "      <td>0.0</td>\n",
       "      <td>0.5</td>\n",
       "      <td>0.0</td>\n",
       "      <td>0.0</td>\n",
       "      <td>0.3</td>\n",
       "      <td>1.9</td>\n",
       "    </tr>\n",
       "    <tr>\n",
       "      <th>2</th>\n",
       "      <td>3/10/2016 9:59</td>\n",
       "      <td>2</td>\n",
       "      <td>0.0</td>\n",
       "      <td>1.5</td>\n",
       "      <td>0.0</td>\n",
       "      <td>0.5</td>\n",
       "      <td>0.0</td>\n",
       "      <td>0.0</td>\n",
       "      <td>0.3</td>\n",
       "      <td>2.3</td>\n",
       "    </tr>\n",
       "    <tr>\n",
       "      <th>3</th>\n",
       "      <td>3/10/2016 10:06</td>\n",
       "      <td>2</td>\n",
       "      <td>0.0</td>\n",
       "      <td>1.5</td>\n",
       "      <td>0.0</td>\n",
       "      <td>0.5</td>\n",
       "      <td>0.0</td>\n",
       "      <td>0.0</td>\n",
       "      <td>0.3</td>\n",
       "      <td>2.3</td>\n",
       "    </tr>\n",
       "    <tr>\n",
       "      <th>4</th>\n",
       "      <td>3/10/2016 10:29</td>\n",
       "      <td>2</td>\n",
       "      <td>0.0</td>\n",
       "      <td>1.5</td>\n",
       "      <td>0.0</td>\n",
       "      <td>0.5</td>\n",
       "      <td>0.0</td>\n",
       "      <td>0.0</td>\n",
       "      <td>0.3</td>\n",
       "      <td>2.3</td>\n",
       "    </tr>\n",
       "  </tbody>\n",
       "</table>\n",
       "</div>"
      ],
      "text/plain": [
       "  tpep_dropoff_datetime  passenger_count  trip_distance  fare_amount  extra  \\\n",
       "0        3/10/2016 7:50                1            0.0          1.0    0.0   \n",
       "1       3/10/2016 10:35                1            0.0          1.1    0.0   \n",
       "2        3/10/2016 9:59                2            0.0          1.5    0.0   \n",
       "3       3/10/2016 10:06                2            0.0          1.5    0.0   \n",
       "4       3/10/2016 10:29                2            0.0          1.5    0.0   \n",
       "\n",
       "   mta_tax  tip_amount  tolls_amount  improvement_surcharge  total_amount  \n",
       "0      0.5         0.0           0.0                    0.3           1.8  \n",
       "1      0.5         0.0           0.0                    0.3           1.9  \n",
       "2      0.5         0.0           0.0                    0.3           2.3  \n",
       "3      0.5         0.0           0.0                    0.3           2.3  \n",
       "4      0.5         0.0           0.0                    0.3           2.3  "
      ]
     },
     "execution_count": 184,
     "metadata": {},
     "output_type": "execute_result"
    }
   ],
   "source": [
    "Uber_data_precip.head()"
   ]
  },
  {
   "cell_type": "markdown",
   "id": "328d5855",
   "metadata": {},
   "source": [
    "### Last 5 rows of Dataset"
   ]
  },
  {
   "cell_type": "code",
   "execution_count": 185,
   "id": "d09fba41",
   "metadata": {},
   "outputs": [
    {
     "data": {
      "text/html": [
       "<div>\n",
       "<style scoped>\n",
       "    .dataframe tbody tr th:only-of-type {\n",
       "        vertical-align: middle;\n",
       "    }\n",
       "\n",
       "    .dataframe tbody tr th {\n",
       "        vertical-align: top;\n",
       "    }\n",
       "\n",
       "    .dataframe thead th {\n",
       "        text-align: right;\n",
       "    }\n",
       "</style>\n",
       "<table border=\"1\" class=\"dataframe\">\n",
       "  <thead>\n",
       "    <tr style=\"text-align: right;\">\n",
       "      <th></th>\n",
       "      <th>tpep_dropoff_datetime</th>\n",
       "      <th>passenger_count</th>\n",
       "      <th>trip_distance</th>\n",
       "      <th>fare_amount</th>\n",
       "      <th>extra</th>\n",
       "      <th>mta_tax</th>\n",
       "      <th>tip_amount</th>\n",
       "      <th>tolls_amount</th>\n",
       "      <th>improvement_surcharge</th>\n",
       "      <th>total_amount</th>\n",
       "    </tr>\n",
       "  </thead>\n",
       "  <tbody>\n",
       "    <tr>\n",
       "      <th>99874</th>\n",
       "      <td>3/10/2016 9:05</td>\n",
       "      <td>1</td>\n",
       "      <td>40.27</td>\n",
       "      <td>171.0</td>\n",
       "      <td>0.0</td>\n",
       "      <td>0.5</td>\n",
       "      <td>20.00</td>\n",
       "      <td>17.00</td>\n",
       "      <td>0.3</td>\n",
       "      <td>208.80</td>\n",
       "    </tr>\n",
       "    <tr>\n",
       "      <th>99875</th>\n",
       "      <td>3/10/2016 9:04</td>\n",
       "      <td>1</td>\n",
       "      <td>35.94</td>\n",
       "      <td>175.0</td>\n",
       "      <td>0.0</td>\n",
       "      <td>0.0</td>\n",
       "      <td>39.96</td>\n",
       "      <td>24.50</td>\n",
       "      <td>0.3</td>\n",
       "      <td>239.76</td>\n",
       "    </tr>\n",
       "    <tr>\n",
       "      <th>99876</th>\n",
       "      <td>3/10/2016 8:57</td>\n",
       "      <td>2</td>\n",
       "      <td>0.00</td>\n",
       "      <td>180.0</td>\n",
       "      <td>0.0</td>\n",
       "      <td>0.0</td>\n",
       "      <td>45.08</td>\n",
       "      <td>0.00</td>\n",
       "      <td>0.3</td>\n",
       "      <td>225.38</td>\n",
       "    </tr>\n",
       "    <tr>\n",
       "      <th>99877</th>\n",
       "      <td>3/10/2016 12:48</td>\n",
       "      <td>2</td>\n",
       "      <td>31.68</td>\n",
       "      <td>195.0</td>\n",
       "      <td>0.0</td>\n",
       "      <td>0.5</td>\n",
       "      <td>41.02</td>\n",
       "      <td>9.29</td>\n",
       "      <td>0.3</td>\n",
       "      <td>246.11</td>\n",
       "    </tr>\n",
       "    <tr>\n",
       "      <th>99878</th>\n",
       "      <td>3/1/2016 1:38</td>\n",
       "      <td>1</td>\n",
       "      <td>45.10</td>\n",
       "      <td>195.5</td>\n",
       "      <td>0.5</td>\n",
       "      <td>0.5</td>\n",
       "      <td>20.00</td>\n",
       "      <td>0.00</td>\n",
       "      <td>0.3</td>\n",
       "      <td>216.80</td>\n",
       "    </tr>\n",
       "  </tbody>\n",
       "</table>\n",
       "</div>"
      ],
      "text/plain": [
       "      tpep_dropoff_datetime  passenger_count  trip_distance  fare_amount  \\\n",
       "99874        3/10/2016 9:05                1          40.27        171.0   \n",
       "99875        3/10/2016 9:04                1          35.94        175.0   \n",
       "99876        3/10/2016 8:57                2           0.00        180.0   \n",
       "99877       3/10/2016 12:48                2          31.68        195.0   \n",
       "99878         3/1/2016 1:38                1          45.10        195.5   \n",
       "\n",
       "       extra  mta_tax  tip_amount  tolls_amount  improvement_surcharge  \\\n",
       "99874    0.0      0.5       20.00         17.00                    0.3   \n",
       "99875    0.0      0.0       39.96         24.50                    0.3   \n",
       "99876    0.0      0.0       45.08          0.00                    0.3   \n",
       "99877    0.0      0.5       41.02          9.29                    0.3   \n",
       "99878    0.5      0.5       20.00          0.00                    0.3   \n",
       "\n",
       "       total_amount  \n",
       "99874        208.80  \n",
       "99875        239.76  \n",
       "99876        225.38  \n",
       "99877        246.11  \n",
       "99878        216.80  "
      ]
     },
     "execution_count": 185,
     "metadata": {},
     "output_type": "execute_result"
    }
   ],
   "source": [
    "Uber_data_precip.tail()"
   ]
  },
  {
   "cell_type": "markdown",
   "id": "ee011cf3",
   "metadata": {},
   "source": [
    "### Information about the Dataset for explainatory Data analysis"
   ]
  },
  {
   "cell_type": "code",
   "execution_count": 186,
   "id": "a6a07dd8",
   "metadata": {},
   "outputs": [
    {
     "name": "stdout",
     "output_type": "stream",
     "text": [
      "<class 'pandas.core.frame.DataFrame'>\n",
      "RangeIndex: 99879 entries, 0 to 99878\n",
      "Data columns (total 10 columns):\n",
      " #   Column                 Non-Null Count  Dtype  \n",
      "---  ------                 --------------  -----  \n",
      " 0   tpep_dropoff_datetime  99879 non-null  object \n",
      " 1   passenger_count        99879 non-null  int64  \n",
      " 2   trip_distance          99879 non-null  float64\n",
      " 3   fare_amount            99879 non-null  float64\n",
      " 4   extra                  99879 non-null  float64\n",
      " 5   mta_tax                99879 non-null  float64\n",
      " 6   tip_amount             99879 non-null  float64\n",
      " 7   tolls_amount           99879 non-null  float64\n",
      " 8   improvement_surcharge  99879 non-null  float64\n",
      " 9   total_amount           99879 non-null  float64\n",
      "dtypes: float64(8), int64(1), object(1)\n",
      "memory usage: 7.6+ MB\n"
     ]
    }
   ],
   "source": [
    "Uber_data_precip.info()"
   ]
  },
  {
   "cell_type": "markdown",
   "id": "656270f4",
   "metadata": {},
   "source": [
    "### Describing each and every column in dataset."
   ]
  },
  {
   "cell_type": "code",
   "execution_count": 187,
   "id": "c8b3c818",
   "metadata": {},
   "outputs": [
    {
     "data": {
      "text/html": [
       "<div>\n",
       "<style scoped>\n",
       "    .dataframe tbody tr th:only-of-type {\n",
       "        vertical-align: middle;\n",
       "    }\n",
       "\n",
       "    .dataframe tbody tr th {\n",
       "        vertical-align: top;\n",
       "    }\n",
       "\n",
       "    .dataframe thead th {\n",
       "        text-align: right;\n",
       "    }\n",
       "</style>\n",
       "<table border=\"1\" class=\"dataframe\">\n",
       "  <thead>\n",
       "    <tr style=\"text-align: right;\">\n",
       "      <th></th>\n",
       "      <th>passenger_count</th>\n",
       "      <th>trip_distance</th>\n",
       "      <th>fare_amount</th>\n",
       "      <th>extra</th>\n",
       "      <th>mta_tax</th>\n",
       "      <th>tip_amount</th>\n",
       "      <th>tolls_amount</th>\n",
       "      <th>improvement_surcharge</th>\n",
       "      <th>total_amount</th>\n",
       "    </tr>\n",
       "  </thead>\n",
       "  <tbody>\n",
       "    <tr>\n",
       "      <th>count</th>\n",
       "      <td>99879.000000</td>\n",
       "      <td>99879.000000</td>\n",
       "      <td>99879.000000</td>\n",
       "      <td>99879.000000</td>\n",
       "      <td>99879.000000</td>\n",
       "      <td>99879.000000</td>\n",
       "      <td>99879.000000</td>\n",
       "      <td>99879.000000</td>\n",
       "      <td>99879.000000</td>\n",
       "    </tr>\n",
       "    <tr>\n",
       "      <th>mean</th>\n",
       "      <td>1.929274</td>\n",
       "      <td>3.032583</td>\n",
       "      <td>13.232981</td>\n",
       "      <td>0.101908</td>\n",
       "      <td>0.497902</td>\n",
       "      <td>1.872781</td>\n",
       "      <td>0.366847</td>\n",
       "      <td>0.299985</td>\n",
       "      <td>16.372402</td>\n",
       "    </tr>\n",
       "    <tr>\n",
       "      <th>std</th>\n",
       "      <td>1.589360</td>\n",
       "      <td>3.799999</td>\n",
       "      <td>11.053779</td>\n",
       "      <td>0.202088</td>\n",
       "      <td>0.032317</td>\n",
       "      <td>2.601368</td>\n",
       "      <td>1.524693</td>\n",
       "      <td>0.002123</td>\n",
       "      <td>13.889037</td>\n",
       "    </tr>\n",
       "    <tr>\n",
       "      <th>min</th>\n",
       "      <td>0.000000</td>\n",
       "      <td>0.000000</td>\n",
       "      <td>1.000000</td>\n",
       "      <td>0.000000</td>\n",
       "      <td>0.000000</td>\n",
       "      <td>0.000000</td>\n",
       "      <td>0.000000</td>\n",
       "      <td>0.000000</td>\n",
       "      <td>1.800000</td>\n",
       "    </tr>\n",
       "    <tr>\n",
       "      <th>25%</th>\n",
       "      <td>1.000000</td>\n",
       "      <td>0.990000</td>\n",
       "      <td>6.500000</td>\n",
       "      <td>0.000000</td>\n",
       "      <td>0.500000</td>\n",
       "      <td>0.000000</td>\n",
       "      <td>0.000000</td>\n",
       "      <td>0.300000</td>\n",
       "      <td>8.300000</td>\n",
       "    </tr>\n",
       "    <tr>\n",
       "      <th>50%</th>\n",
       "      <td>1.000000</td>\n",
       "      <td>1.670000</td>\n",
       "      <td>9.500000</td>\n",
       "      <td>0.000000</td>\n",
       "      <td>0.500000</td>\n",
       "      <td>1.360000</td>\n",
       "      <td>0.000000</td>\n",
       "      <td>0.300000</td>\n",
       "      <td>11.800000</td>\n",
       "    </tr>\n",
       "    <tr>\n",
       "      <th>75%</th>\n",
       "      <td>2.000000</td>\n",
       "      <td>3.200000</td>\n",
       "      <td>15.000000</td>\n",
       "      <td>0.000000</td>\n",
       "      <td>0.500000</td>\n",
       "      <td>2.460000</td>\n",
       "      <td>0.000000</td>\n",
       "      <td>0.300000</td>\n",
       "      <td>18.300000</td>\n",
       "    </tr>\n",
       "    <tr>\n",
       "      <th>max</th>\n",
       "      <td>6.000000</td>\n",
       "      <td>184.400000</td>\n",
       "      <td>195.500000</td>\n",
       "      <td>4.500000</td>\n",
       "      <td>0.500000</td>\n",
       "      <td>125.880000</td>\n",
       "      <td>25.540000</td>\n",
       "      <td>0.300000</td>\n",
       "      <td>246.110000</td>\n",
       "    </tr>\n",
       "  </tbody>\n",
       "</table>\n",
       "</div>"
      ],
      "text/plain": [
       "       passenger_count  trip_distance   fare_amount         extra  \\\n",
       "count     99879.000000   99879.000000  99879.000000  99879.000000   \n",
       "mean          1.929274       3.032583     13.232981      0.101908   \n",
       "std           1.589360       3.799999     11.053779      0.202088   \n",
       "min           0.000000       0.000000      1.000000      0.000000   \n",
       "25%           1.000000       0.990000      6.500000      0.000000   \n",
       "50%           1.000000       1.670000      9.500000      0.000000   \n",
       "75%           2.000000       3.200000     15.000000      0.000000   \n",
       "max           6.000000     184.400000    195.500000      4.500000   \n",
       "\n",
       "            mta_tax    tip_amount  tolls_amount  improvement_surcharge  \\\n",
       "count  99879.000000  99879.000000  99879.000000           99879.000000   \n",
       "mean       0.497902      1.872781      0.366847               0.299985   \n",
       "std        0.032317      2.601368      1.524693               0.002123   \n",
       "min        0.000000      0.000000      0.000000               0.000000   \n",
       "25%        0.500000      0.000000      0.000000               0.300000   \n",
       "50%        0.500000      1.360000      0.000000               0.300000   \n",
       "75%        0.500000      2.460000      0.000000               0.300000   \n",
       "max        0.500000    125.880000     25.540000               0.300000   \n",
       "\n",
       "       total_amount  \n",
       "count  99879.000000  \n",
       "mean      16.372402  \n",
       "std       13.889037  \n",
       "min        1.800000  \n",
       "25%        8.300000  \n",
       "50%       11.800000  \n",
       "75%       18.300000  \n",
       "max      246.110000  "
      ]
     },
     "execution_count": 187,
     "metadata": {},
     "output_type": "execute_result"
    }
   ],
   "source": [
    "Uber_data_precip.describe()"
   ]
  },
  {
   "cell_type": "markdown",
   "id": "e02961cc",
   "metadata": {},
   "source": [
    "### This will give the number of nulls in each column."
   ]
  },
  {
   "cell_type": "code",
   "execution_count": 188,
   "id": "55382011",
   "metadata": {},
   "outputs": [
    {
     "data": {
      "text/plain": [
       "tpep_dropoff_datetime    0\n",
       "passenger_count          0\n",
       "trip_distance            0\n",
       "fare_amount              0\n",
       "extra                    0\n",
       "mta_tax                  0\n",
       "tip_amount               0\n",
       "tolls_amount             0\n",
       "improvement_surcharge    0\n",
       "total_amount             0\n",
       "dtype: int64"
      ]
     },
     "execution_count": 188,
     "metadata": {},
     "output_type": "execute_result"
    }
   ],
   "source": [
    "Uber_data_precip.isnull().sum()"
   ]
  },
  {
   "cell_type": "markdown",
   "id": "fc9ee6ff",
   "metadata": {},
   "source": [
    "### Histogram for fare amount"
   ]
  },
  {
   "cell_type": "code",
   "execution_count": 203,
   "id": "57ff4a3c",
   "metadata": {},
   "outputs": [
    {
     "data": {
      "image/png": "[encoded data removed]",
      "text/plain": [
       "<Figure size 640x480 with 1 Axes>"
      ]
     },
     "metadata": {},
     "output_type": "display_data"
    }
   ],
   "source": [
    "Uber_data_precip['fare_amount'].hist(bins=100, rwidth=1)\n",
    "plt.xlabel('$ value of fare amount')\n",
    "plt.ylabel('Frequency')\n",
    "plt.title('Fare amount for Taxi rides')\n",
    "plt.show()"
   ]
  },
  {
   "cell_type": "markdown",
   "id": "d53f7742",
   "metadata": {},
   "source": [
    "### Histogram for Tip amount for Taxi Drivers"
   ]
  },
  {
   "cell_type": "code",
   "execution_count": 212,
   "id": "1991fe8e",
   "metadata": {},
   "outputs": [
    {
     "data": {
      "image/png": "[encoded data removed]",
      "text/plain": [
       "<Figure size 640x480 with 1 Axes>"
      ]
     },
     "metadata": {},
     "output_type": "display_data"
    }
   ],
   "source": [
    "Uber_data_precip['tip_amount'].hist(bins=150, rwidth=1)\n",
    "plt.xlabel('$ value of tip amount')\n",
    "plt.ylabel('Frequency')\n",
    "plt.title('Tip amount for Taxi driver')\n",
    "plt.tight_layout()"
   ]
  },
  {
   "cell_type": "markdown",
   "id": "0e1979aa",
   "metadata": {},
   "source": [
    "### Histogram for Total amount for ride including Taxes and Tip"
   ]
  },
  {
   "cell_type": "code",
   "execution_count": 214,
   "id": "0da063bf",
   "metadata": {},
   "outputs": [
    {
     "data": {
      "image/png": "[encoded data removed]",
      "text/plain": [
       "<Figure size 640x480 with 1 Axes>"
      ]
     },
     "metadata": {},
     "output_type": "display_data"
    }
   ],
   "source": [
    "Uber_data_precip['total_amount'].hist(bins=100, rwidth=1)\n",
    "plt.xlabel('$ value of total amount incl. Taxes')\n",
    "plt.ylabel('Frequency')\n",
    "plt.title('Final amount for Taxi rides including taxes')\n",
    "plt.show()"
   ]
  },
  {
   "cell_type": "markdown",
   "id": "ddb54e3c",
   "metadata": {},
   "source": [
    "### Calculating Mean, Variance, Alpha & Beta for Gamma Function formula"
   ]
  },
  {
   "cell_type": "code",
   "execution_count": 215,
   "id": "e6653a58",
   "metadata": {},
   "outputs": [
    {
     "data": {
      "text/plain": [
       "total_amount    16.372402\n",
       "fare_amount     13.232981\n",
       "extra            0.101908\n",
       "mta_tax          0.497902\n",
       "tip_amount       1.872781\n",
       "tolls_amount     0.366847\n",
       "dtype: float64"
      ]
     },
     "execution_count": 215,
     "metadata": {},
     "output_type": "execute_result"
    }
   ],
   "source": [
    "Uber_data_precip_mean = Uber_data_precip[['total_amount','fare_amount','extra','mta_tax','tip_amount','tolls_amount']].mean()\n",
    "Uber_data_precip_mean"
   ]
  },
  {
   "cell_type": "code",
   "execution_count": 216,
   "id": "551e3643",
   "metadata": {},
   "outputs": [
    {
     "data": {
      "text/plain": [
       "total_amount    192.905338\n",
       "fare_amount     122.186034\n",
       "extra             0.040840\n",
       "mta_tax           0.001044\n",
       "tip_amount        6.767114\n",
       "tolls_amount      2.324687\n",
       "dtype: float64"
      ]
     },
     "execution_count": 216,
     "metadata": {},
     "output_type": "execute_result"
    }
   ],
   "source": [
    "Uber_data_precip_var = Uber_data_precip[['total_amount','fare_amount','extra','mta_tax','tip_amount','tolls_amount']].var()\n",
    "Uber_data_precip_var"
   ]
  },
  {
   "cell_type": "code",
   "execution_count": 217,
   "id": "1e999e8a",
   "metadata": {},
   "outputs": [],
   "source": [
    "alpha_mom = Uber_data_precip_mean**2 / Uber_data_precip_var\n",
    "beta_mom = Uber_data_precip_var / Uber_data_precip_mean"
   ]
  },
  {
   "cell_type": "code",
   "execution_count": 218,
   "id": "511aad65",
   "metadata": {},
   "outputs": [
    {
     "data": {
      "text/plain": [
       "total_amount      1.389570\n",
       "fare_amount       1.433157\n",
       "extra             0.254295\n",
       "mta_tax         237.372325\n",
       "tip_amount        0.518287\n",
       "tolls_amount      0.057890\n",
       "dtype: float64"
      ]
     },
     "execution_count": 218,
     "metadata": {},
     "output_type": "execute_result"
    }
   ],
   "source": [
    "alpha_mom"
   ]
  },
  {
   "cell_type": "code",
   "execution_count": 219,
   "id": "ecd3df9e",
   "metadata": {},
   "outputs": [
    {
     "data": {
      "text/plain": [
       "total_amount    11.782348\n",
       "fare_amount      9.233447\n",
       "extra            0.400748\n",
       "mta_tax          0.002098\n",
       "tip_amount       3.613404\n",
       "tolls_amount     6.336944\n",
       "dtype: float64"
      ]
     },
     "execution_count": 219,
     "metadata": {},
     "output_type": "execute_result"
    }
   ],
   "source": [
    "beta_mom"
   ]
  },
  {
   "cell_type": "markdown",
   "id": "31bd1af8",
   "metadata": {},
   "source": [
    "### Gamma Distribution for Fare amount for Rides"
   ]
  },
  {
   "cell_type": "code",
   "execution_count": 221,
   "id": "9da17b60",
   "metadata": {},
   "outputs": [
    {
     "data": {
      "image/png": "[encoded data removed]",
      "text/plain": [
       "<Figure size 640x480 with 1 Axes>"
      ]
     },
     "metadata": {},
     "output_type": "display_data"
    }
   ],
   "source": [
    "import matplotlib.pyplot as plt\n",
    "import numpy as np\n",
    "from scipy.stats import gamma\n",
    "\n",
    "# Sample data (replace this with your actual data)\n",
    "data = Uber_data_precip.fare_amount\n",
    "\n",
    "# Estimate alpha and beta from your data\n",
    "alpha_mom = (data.mean() ** 2) / data.var()\n",
    "beta_mom = data.var() / data.mean()\n",
    "\n",
    "# Create a histogram of the data\n",
    "plt.hist(data, density=True, bins=100, label='Histogram')\n",
    "\n",
    "# Define the range for the x-axis\n",
    "x = np.linspace(0, 100, 1000)\n",
    "\n",
    "# Plot the gamma distribution using the estimated alpha and beta\n",
    "plt.plot(x, gamma.pdf(x, a=alpha_mom, scale=beta_mom), 'r', label=f'Gamma Distribution\\nalpha = {alpha_mom:.2f}, beta = {beta_mom:.2f}')\n",
    "\n",
    "plt.xlabel('$ value of fare amount')\n",
    "plt.ylabel('Frequency')\n",
    "plt.title('Gamma Distribution of fare amount')\n",
    "plt.legend()\n",
    "plt.tight_layout()\n",
    "plt.show()\n"
   ]
  },
  {
   "cell_type": "markdown",
   "id": "d535660b",
   "metadata": {},
   "source": [
    "### Gamma Distribution for Tip amount to drivers for rides"
   ]
  },
  {
   "cell_type": "code",
   "execution_count": 222,
   "id": "d84afff3",
   "metadata": {},
   "outputs": [
    {
     "data": {
      "image/png": "[encoded data removed]",
      "text/plain": [
       "<Figure size 640x480 with 1 Axes>"
      ]
     },
     "metadata": {},
     "output_type": "display_data"
    }
   ],
   "source": [
    "from scipy.stats import gamma\n",
    "\n",
    "# Sample data (replace this with your actual data)\n",
    "data = Uber_data_precip.tip_amount\n",
    "\n",
    "# Estimate alpha and beta from your data\n",
    "alpha_mom = (data.mean() ** 2) / data.var()\n",
    "beta_mom = data.var() / data.mean()\n",
    "\n",
    "# Create a histogram of the data\n",
    "plt.hist(data, density=True, bins=100, label='Histogram')\n",
    "\n",
    "# Define the range for the x-axis\n",
    "x = np.linspace(0, 20, 100)\n",
    "\n",
    "# Plot the gamma distribution using the estimated alpha and beta\n",
    "plt.plot(x, gamma.pdf(x, a=alpha_mom, scale=beta_mom), 'r', label=f'Gamma Distribution\\nalpha = {alpha_mom:.2f}, beta = {beta_mom:.2f}')\n",
    "\n",
    "plt.xlabel('$ value of Tip amount')\n",
    "plt.ylabel('Frequency')\n",
    "plt.title('Gamma Distribution of Tip amount')\n",
    "plt.legend()\n",
    "plt.tight_layout()\n",
    "plt.show()\n"
   ]
  },
  {
   "cell_type": "markdown",
   "id": "232ea0af",
   "metadata": {},
   "source": [
    "### Gamma Distribution for Final amount for Rides Incl. Tip & Taxes"
   ]
  },
  {
   "cell_type": "code",
   "execution_count": 223,
   "id": "2ef072b8",
   "metadata": {},
   "outputs": [
    {
     "data": {
      "image/png": "[encoded data removed]",
      "text/plain": [
       "<Figure size 640x480 with 1 Axes>"
      ]
     },
     "metadata": {},
     "output_type": "display_data"
    }
   ],
   "source": [
    "from scipy.stats import gamma\n",
    "\n",
    "# Sample data (replace this with your actual data)\n",
    "data = Uber_data_precip.total_amount\n",
    "\n",
    "# Estimate alpha and beta from your data\n",
    "alpha_mom = (data.mean() ** 2) / data.var()\n",
    "beta_mom = data.var() / data.mean()\n",
    "\n",
    "# Create a histogram of the data\n",
    "plt.hist(data, density=True, bins=100, label='Histogram')\n",
    "\n",
    "# Define the range for the x-axis\n",
    "x = np.linspace(0, 100, 1000)\n",
    "\n",
    "# Plot the gamma distribution using the estimated alpha and beta\n",
    "plt.plot(x, gamma.pdf(x, a=alpha_mom, scale=beta_mom), 'r', label=f'Gamma Distribution\\nalpha = {alpha_mom:.2f}, beta = {beta_mom:.2f}')\n",
    "\n",
    "plt.xlabel('$ value of Total amount Incl. Tip & Taxes')\n",
    "plt.ylabel('Frequency')\n",
    "plt.title('Gamma Distribution of Total amount Incl. Tip & Taxes')\n",
    "plt.legend()\n",
    "plt.tight_layout()\n",
    "plt.show()"
   ]
  },
  {
   "cell_type": "markdown",
   "id": "6ce4b7a2",
   "metadata": {},
   "source": [
    "### Hence proved subways are recommendable in New York✌️"
   ]
  }
 ],
 "metadata": {
  "kernelspec": {
   "display_name": "Python 3 (ipykernel)",
   "language": "python",
   "name": "python3"
  },
  "language_info": {
   "codemirror_mode": {
    "name": "ipython",
    "version": 3
   },
   "file_extension": ".py",
   "mimetype": "text/x-python",
   "name": "python",
   "nbconvert_exporter": "python",
   "pygments_lexer": "ipython3",
   "version": "3.11.5"
  }
 },
 "nbformat": 4,
 "nbformat_minor": 5
}
